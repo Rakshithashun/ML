{
 "cells": [
  {
   "cell_type": "code",
   "execution_count": 1,
   "id": "bc7c40cc",
   "metadata": {},
   "outputs": [],
   "source": [
    "import pandas as pd\n",
    "import numpy as np\n",
    "from sklearn.model_selection import train_test_split\n",
    "from sklearn.ensemble import RandomForestRegressor\n",
    "from sklearn.preprocessing import LabelEncoder, StandardScaler\n",
    "from sklearn.metrics import mean_absolute_error, mean_squared_error, r2_score"
   ]
  },
  {
   "cell_type": "code",
   "execution_count": 7,
   "id": "b420787e",
   "metadata": {},
   "outputs": [
    {
     "data": {
      "text/html": [
       "<div>\n",
       "<style scoped>\n",
       "    .dataframe tbody tr th:only-of-type {\n",
       "        vertical-align: middle;\n",
       "    }\n",
       "\n",
       "    .dataframe tbody tr th {\n",
       "        vertical-align: top;\n",
       "    }\n",
       "\n",
       "    .dataframe thead th {\n",
       "        text-align: right;\n",
       "    }\n",
       "</style>\n",
       "<table border=\"1\" class=\"dataframe\">\n",
       "  <thead>\n",
       "    <tr style=\"text-align: right;\">\n",
       "      <th></th>\n",
       "      <th>PackageID</th>\n",
       "      <th>Origin</th>\n",
       "      <th>Destination</th>\n",
       "      <th>Distance_km</th>\n",
       "      <th>TimeWindow_Start</th>\n",
       "      <th>TimeWindow_End</th>\n",
       "      <th>Priority</th>\n",
       "      <th>DeliveryStatus</th>\n",
       "    </tr>\n",
       "  </thead>\n",
       "  <tbody>\n",
       "    <tr>\n",
       "      <th>0</th>\n",
       "      <td>PKG0001</td>\n",
       "      <td>Warehouse A</td>\n",
       "      <td>Location 14</td>\n",
       "      <td>10.3</td>\n",
       "      <td>09:00</td>\n",
       "      <td>12:00</td>\n",
       "      <td>Medium</td>\n",
       "      <td>Pending</td>\n",
       "    </tr>\n",
       "    <tr>\n",
       "      <th>1</th>\n",
       "      <td>PKG0002</td>\n",
       "      <td>Warehouse B</td>\n",
       "      <td>Location 5</td>\n",
       "      <td>7.0</td>\n",
       "      <td>07:30</td>\n",
       "      <td>12:30</td>\n",
       "      <td>Medium</td>\n",
       "      <td>Delivered</td>\n",
       "    </tr>\n",
       "    <tr>\n",
       "      <th>2</th>\n",
       "      <td>PKG0003</td>\n",
       "      <td>Warehouse C</td>\n",
       "      <td>Location 8</td>\n",
       "      <td>6.7</td>\n",
       "      <td>10:00</td>\n",
       "      <td>13:30</td>\n",
       "      <td>Medium</td>\n",
       "      <td>Delivered</td>\n",
       "    </tr>\n",
       "    <tr>\n",
       "      <th>3</th>\n",
       "      <td>PKG0004</td>\n",
       "      <td>Warehouse C</td>\n",
       "      <td>Location 17</td>\n",
       "      <td>49.8</td>\n",
       "      <td>10:30</td>\n",
       "      <td>12:30</td>\n",
       "      <td>High</td>\n",
       "      <td>Pending</td>\n",
       "    </tr>\n",
       "    <tr>\n",
       "      <th>4</th>\n",
       "      <td>PKG0005</td>\n",
       "      <td>Warehouse B</td>\n",
       "      <td>Location 14</td>\n",
       "      <td>10.2</td>\n",
       "      <td>06:30</td>\n",
       "      <td>16:00</td>\n",
       "      <td>Low</td>\n",
       "      <td>Delivered</td>\n",
       "    </tr>\n",
       "    <tr>\n",
       "      <th>...</th>\n",
       "      <td>...</td>\n",
       "      <td>...</td>\n",
       "      <td>...</td>\n",
       "      <td>...</td>\n",
       "      <td>...</td>\n",
       "      <td>...</td>\n",
       "      <td>...</td>\n",
       "      <td>...</td>\n",
       "    </tr>\n",
       "    <tr>\n",
       "      <th>195</th>\n",
       "      <td>PKG0196</td>\n",
       "      <td>Warehouse B</td>\n",
       "      <td>Location 30</td>\n",
       "      <td>39.5</td>\n",
       "      <td>10:00</td>\n",
       "      <td>12:30</td>\n",
       "      <td>Low</td>\n",
       "      <td>Delivered</td>\n",
       "    </tr>\n",
       "    <tr>\n",
       "      <th>196</th>\n",
       "      <td>PKG0197</td>\n",
       "      <td>Warehouse A</td>\n",
       "      <td>Location 23</td>\n",
       "      <td>39.4</td>\n",
       "      <td>08:30</td>\n",
       "      <td>11:30</td>\n",
       "      <td>Low</td>\n",
       "      <td>Pending</td>\n",
       "    </tr>\n",
       "    <tr>\n",
       "      <th>197</th>\n",
       "      <td>PKG0198</td>\n",
       "      <td>Warehouse B</td>\n",
       "      <td>Location 10</td>\n",
       "      <td>18.0</td>\n",
       "      <td>09:00</td>\n",
       "      <td>17:00</td>\n",
       "      <td>Low</td>\n",
       "      <td>Delivered</td>\n",
       "    </tr>\n",
       "    <tr>\n",
       "      <th>198</th>\n",
       "      <td>PKG0199</td>\n",
       "      <td>Warehouse B</td>\n",
       "      <td>Location 21</td>\n",
       "      <td>10.4</td>\n",
       "      <td>10:30</td>\n",
       "      <td>13:30</td>\n",
       "      <td>Low</td>\n",
       "      <td>Pending</td>\n",
       "    </tr>\n",
       "    <tr>\n",
       "      <th>199</th>\n",
       "      <td>PKG0200</td>\n",
       "      <td>Warehouse B</td>\n",
       "      <td>Location 14</td>\n",
       "      <td>27.4</td>\n",
       "      <td>09:00</td>\n",
       "      <td>16:30</td>\n",
       "      <td>Medium</td>\n",
       "      <td>Failed</td>\n",
       "    </tr>\n",
       "  </tbody>\n",
       "</table>\n",
       "<p>200 rows × 8 columns</p>\n",
       "</div>"
      ],
      "text/plain": [
       "    PackageID       Origin  Destination  Distance_km TimeWindow_Start  \\\n",
       "0     PKG0001  Warehouse A  Location 14         10.3            09:00   \n",
       "1     PKG0002  Warehouse B   Location 5          7.0            07:30   \n",
       "2     PKG0003  Warehouse C   Location 8          6.7            10:00   \n",
       "3     PKG0004  Warehouse C  Location 17         49.8            10:30   \n",
       "4     PKG0005  Warehouse B  Location 14         10.2            06:30   \n",
       "..        ...          ...          ...          ...              ...   \n",
       "195   PKG0196  Warehouse B  Location 30         39.5            10:00   \n",
       "196   PKG0197  Warehouse A  Location 23         39.4            08:30   \n",
       "197   PKG0198  Warehouse B  Location 10         18.0            09:00   \n",
       "198   PKG0199  Warehouse B  Location 21         10.4            10:30   \n",
       "199   PKG0200  Warehouse B  Location 14         27.4            09:00   \n",
       "\n",
       "    TimeWindow_End Priority DeliveryStatus  \n",
       "0            12:00   Medium        Pending  \n",
       "1            12:30   Medium      Delivered  \n",
       "2            13:30   Medium      Delivered  \n",
       "3            12:30     High        Pending  \n",
       "4            16:00      Low      Delivered  \n",
       "..             ...      ...            ...  \n",
       "195          12:30      Low      Delivered  \n",
       "196          11:30      Low        Pending  \n",
       "197          17:00      Low      Delivered  \n",
       "198          13:30      Low        Pending  \n",
       "199          16:30   Medium         Failed  \n",
       "\n",
       "[200 rows x 8 columns]"
      ]
     },
     "execution_count": 7,
     "metadata": {},
     "output_type": "execute_result"
    }
   ],
   "source": [
    "df = pd.read_csv(\"C:/Users/Rakshitha/Downloads/Larger_Package_Delivery_Route_Optimization.csv\")\n",
    "df\n"
   ]
  },
  {
   "cell_type": "code",
   "execution_count": 8,
   "id": "c0510e55",
   "metadata": {},
   "outputs": [],
   "source": [
    "priority_to_time = {\"High\": 15, \"Medium\": 10, \"Low\": 5}\n",
    "df[\"DeliveryTime\"] = df[\"Distance_km\"] * 2 + df[\"Priority\"].map(priority_to_time) + np.random.normal(0, 5, len(df))"
   ]
  },
  {
   "cell_type": "code",
   "execution_count": 9,
   "id": "ea994640",
   "metadata": {},
   "outputs": [],
   "source": [
    "label_encoders = {}\n",
    "categorical_columns = [\"Origin\", \"Destination\", \"Priority\"]\n",
    "for col in categorical_columns:\n",
    "    le = LabelEncoder()\n",
    "    df[col] = le.fit_transform(df[col])\n",
    "    label_encoders[col] = le\n"
   ]
  },
  {
   "cell_type": "code",
   "execution_count": 10,
   "id": "9b888d67",
   "metadata": {},
   "outputs": [],
   "source": [
    "df[\"TimeWindow_Start\"] = df[\"TimeWindow_Start\"].apply(lambda x: int(x[:2]) + int(x[3:]) / 60)\n",
    "df[\"TimeWindow_End\"] = df[\"TimeWindow_End\"].apply(lambda x: int(x[:2]) + int(x[3:]) / 60)\n"
   ]
  },
  {
   "cell_type": "code",
   "execution_count": 11,
   "id": "1c40ffb6",
   "metadata": {},
   "outputs": [],
   "source": [
    "X = df.drop(columns=[\"PackageID\", \"DeliveryStatus\", \"DeliveryTime\"])  # Drop irrelevant columns\n",
    "y = df[\"DeliveryTime\"]\n",
    "X_train, X_test, y_train, y_test = train_test_split(X, y, test_size=0.2, random_state=42)\n"
   ]
  },
  {
   "cell_type": "code",
   "execution_count": 12,
   "id": "4c010d3b",
   "metadata": {},
   "outputs": [],
   "source": [
    "scaler = StandardScaler()\n",
    "X_train = scaler.fit_transform(X_train)\n",
    "X_test = scaler.transform(X_test)\n"
   ]
  },
  {
   "cell_type": "code",
   "execution_count": 13,
   "id": "5f800fe1",
   "metadata": {},
   "outputs": [],
   "source": [
    "model = RandomForestRegressor(random_state=42)\n"
   ]
  },
  {
   "cell_type": "code",
   "execution_count": 14,
   "id": "3cd7c487",
   "metadata": {},
   "outputs": [
    {
     "data": {
      "text/html": [
       "<style>#sk-container-id-1 {color: black;background-color: white;}#sk-container-id-1 pre{padding: 0;}#sk-container-id-1 div.sk-toggleable {background-color: white;}#sk-container-id-1 label.sk-toggleable__label {cursor: pointer;display: block;width: 100%;margin-bottom: 0;padding: 0.3em;box-sizing: border-box;text-align: center;}#sk-container-id-1 label.sk-toggleable__label-arrow:before {content: \"▸\";float: left;margin-right: 0.25em;color: #696969;}#sk-container-id-1 label.sk-toggleable__label-arrow:hover:before {color: black;}#sk-container-id-1 div.sk-estimator:hover label.sk-toggleable__label-arrow:before {color: black;}#sk-container-id-1 div.sk-toggleable__content {max-height: 0;max-width: 0;overflow: hidden;text-align: left;background-color: #f0f8ff;}#sk-container-id-1 div.sk-toggleable__content pre {margin: 0.2em;color: black;border-radius: 0.25em;background-color: #f0f8ff;}#sk-container-id-1 input.sk-toggleable__control:checked~div.sk-toggleable__content {max-height: 200px;max-width: 100%;overflow: auto;}#sk-container-id-1 input.sk-toggleable__control:checked~label.sk-toggleable__label-arrow:before {content: \"▾\";}#sk-container-id-1 div.sk-estimator input.sk-toggleable__control:checked~label.sk-toggleable__label {background-color: #d4ebff;}#sk-container-id-1 div.sk-label input.sk-toggleable__control:checked~label.sk-toggleable__label {background-color: #d4ebff;}#sk-container-id-1 input.sk-hidden--visually {border: 0;clip: rect(1px 1px 1px 1px);clip: rect(1px, 1px, 1px, 1px);height: 1px;margin: -1px;overflow: hidden;padding: 0;position: absolute;width: 1px;}#sk-container-id-1 div.sk-estimator {font-family: monospace;background-color: #f0f8ff;border: 1px dotted black;border-radius: 0.25em;box-sizing: border-box;margin-bottom: 0.5em;}#sk-container-id-1 div.sk-estimator:hover {background-color: #d4ebff;}#sk-container-id-1 div.sk-parallel-item::after {content: \"\";width: 100%;border-bottom: 1px solid gray;flex-grow: 1;}#sk-container-id-1 div.sk-label:hover label.sk-toggleable__label {background-color: #d4ebff;}#sk-container-id-1 div.sk-serial::before {content: \"\";position: absolute;border-left: 1px solid gray;box-sizing: border-box;top: 0;bottom: 0;left: 50%;z-index: 0;}#sk-container-id-1 div.sk-serial {display: flex;flex-direction: column;align-items: center;background-color: white;padding-right: 0.2em;padding-left: 0.2em;position: relative;}#sk-container-id-1 div.sk-item {position: relative;z-index: 1;}#sk-container-id-1 div.sk-parallel {display: flex;align-items: stretch;justify-content: center;background-color: white;position: relative;}#sk-container-id-1 div.sk-item::before, #sk-container-id-1 div.sk-parallel-item::before {content: \"\";position: absolute;border-left: 1px solid gray;box-sizing: border-box;top: 0;bottom: 0;left: 50%;z-index: -1;}#sk-container-id-1 div.sk-parallel-item {display: flex;flex-direction: column;z-index: 1;position: relative;background-color: white;}#sk-container-id-1 div.sk-parallel-item:first-child::after {align-self: flex-end;width: 50%;}#sk-container-id-1 div.sk-parallel-item:last-child::after {align-self: flex-start;width: 50%;}#sk-container-id-1 div.sk-parallel-item:only-child::after {width: 0;}#sk-container-id-1 div.sk-dashed-wrapped {border: 1px dashed gray;margin: 0 0.4em 0.5em 0.4em;box-sizing: border-box;padding-bottom: 0.4em;background-color: white;}#sk-container-id-1 div.sk-label label {font-family: monospace;font-weight: bold;display: inline-block;line-height: 1.2em;}#sk-container-id-1 div.sk-label-container {text-align: center;}#sk-container-id-1 div.sk-container {/* jupyter's `normalize.less` sets `[hidden] { display: none; }` but bootstrap.min.css set `[hidden] { display: none !important; }` so we also need the `!important` here to be able to override the default hidden behavior on the sphinx rendered scikit-learn.org. See: https://github.com/scikit-learn/scikit-learn/issues/21755 */display: inline-block !important;position: relative;}#sk-container-id-1 div.sk-text-repr-fallback {display: none;}</style><div id=\"sk-container-id-1\" class=\"sk-top-container\"><div class=\"sk-text-repr-fallback\"><pre>RandomForestRegressor(random_state=42)</pre><b>In a Jupyter environment, please rerun this cell to show the HTML representation or trust the notebook. <br />On GitHub, the HTML representation is unable to render, please try loading this page with nbviewer.org.</b></div><div class=\"sk-container\" hidden><div class=\"sk-item\"><div class=\"sk-estimator sk-toggleable\"><input class=\"sk-toggleable__control sk-hidden--visually\" id=\"sk-estimator-id-1\" type=\"checkbox\" checked><label for=\"sk-estimator-id-1\" class=\"sk-toggleable__label sk-toggleable__label-arrow\">RandomForestRegressor</label><div class=\"sk-toggleable__content\"><pre>RandomForestRegressor(random_state=42)</pre></div></div></div></div></div>"
      ],
      "text/plain": [
       "RandomForestRegressor(random_state=42)"
      ]
     },
     "execution_count": 14,
     "metadata": {},
     "output_type": "execute_result"
    }
   ],
   "source": [
    "model.fit(X_train, y_train)\n"
   ]
  },
  {
   "cell_type": "code",
   "execution_count": 15,
   "id": "729dd841",
   "metadata": {},
   "outputs": [
    {
     "data": {
      "text/plain": [
       "array([ 54.31594333,  76.08966458,  44.36448683,  33.93477223,\n",
       "       102.74067339,  56.57672589,  56.69424985,  53.5994803 ,\n",
       "        34.64925176,  73.41580611,  27.17879495,  34.38306377,\n",
       "        73.56449897,  77.21181452,  80.03931528,  29.42836524,\n",
       "        29.04898766,  85.8702079 ,  60.8305303 ,  58.22283885,\n",
       "        72.37196335,  90.57617584,  83.80064944,  54.74360868,\n",
       "        59.54588874,  86.55372558,  83.66438473,  19.01028921,\n",
       "        79.97691249,  45.35888322, 103.60635059, 108.33908379,\n",
       "        86.64828151, 104.53524981,  77.07980906,  55.58121045,\n",
       "        61.92623913,  60.74670577,  28.20322918,  76.13142277])"
      ]
     },
     "execution_count": 15,
     "metadata": {},
     "output_type": "execute_result"
    }
   ],
   "source": [
    "y_pred = model.predict(X_test)\n",
    "y_pred"
   ]
  },
  {
   "cell_type": "code",
   "execution_count": 16,
   "id": "155280bc",
   "metadata": {},
   "outputs": [
    {
     "name": "stdout",
     "output_type": "stream",
     "text": [
      "Mean Absolute Error (MAE): 4.807881505396568\n",
      "Mean Squared Error (MSE): 44.23712108112544\n",
      "R² Score: 0.9352958106832977\n"
     ]
    }
   ],
   "source": [
    "mae = mean_absolute_error(y_test, y_pred)\n",
    "mse = mean_squared_error(y_test, y_pred)\n",
    "r2 = r2_score(y_test, y_pred)\n",
    "print(f\"Mean Absolute Error (MAE): {mae}\")\n",
    "print(f\"Mean Squared Error (MSE): {mse}\")\n",
    "print(f\"R² Score: {r2}\")"
   ]
  },
  {
   "cell_type": "code",
   "execution_count": null,
   "id": "8e885e3c",
   "metadata": {},
   "outputs": [],
   "source": []
  }
 ],
 "metadata": {
  "kernelspec": {
   "display_name": "Python 3 (ipykernel)",
   "language": "python",
   "name": "python3"
  },
  "language_info": {
   "codemirror_mode": {
    "name": "ipython",
    "version": 3
   },
   "file_extension": ".py",
   "mimetype": "text/x-python",
   "name": "python",
   "nbconvert_exporter": "python",
   "pygments_lexer": "ipython3",
   "version": "3.10.9"
  }
 },
 "nbformat": 4,
 "nbformat_minor": 5
}
